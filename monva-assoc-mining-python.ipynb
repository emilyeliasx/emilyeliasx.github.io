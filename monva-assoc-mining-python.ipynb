{
 "nbformat": 4,
 "nbformat_minor": 2,
 "metadata": {
  "language_info": {
   "name": "python",
   "codemirror_mode": {
    "name": "ipython",
    "version": 3
   }
  },
  "orig_nbformat": 2,
  "file_extension": ".py",
  "mimetype": "text/x-python",
  "name": "python",
  "npconvert_exporter": "python",
  "pygments_lexer": "ipython3",
  "version": 3
 },
 "cells": [
  {
   "cell_type": "markdown",
   "execution_count": null,
   "metadata": {},
   "outputs": [],
   "source": [
    "# Association Rule Mining\n",
    "\n",
    "This notebook provides a proof-of-concept of association rule mining using a public online retail dataset.\n",
    "\n",
    "With thanks to: https://pbpython.com/market-basket-analysis.html"
   ]
  },
  {
   "cell_type": "markdown",
   "execution_count": null,
   "metadata": {},
   "outputs": [],
   "source": [
    "## Libraries"
   ]
  },
  {
   "cell_type": "code",
   "execution_count": 1,
   "metadata": {},
   "outputs": [],
   "source": [
    "import pandas as pd \n",
    "from mlxtend.frequent_patterns import apriori \n",
    "from mlxtend.frequent_patterns import association_rules"
   ]
  },
  {
   "cell_type": "markdown",
   "execution_count": null,
   "metadata": {},
   "outputs": [],
   "source": [
    "## Read Data\n",
    "\n",
    "Each row corresponds to one item ordered with a corresponding InvoiceNo and CustomerID."
   ]
  },
  {
   "cell_type": "code",
   "execution_count": 5,
   "metadata": {},
   "outputs": [
    {
     "data": {
      "text/html": "<div>\n<style scoped>\n    .dataframe tbody tr th:only-of-type {\n        vertical-align: middle;\n    }\n\n    .dataframe tbody tr th {\n        vertical-align: top;\n    }\n\n    .dataframe thead th {\n        text-align: right;\n    }\n</style>\n<table border=\"1\" class=\"dataframe\">\n  <thead>\n    <tr style=\"text-align: right;\">\n      <th></th>\n      <th>InvoiceNo</th>\n      <th>StockCode</th>\n      <th>Name</th>\n      <th>Quantity</th>\n      <th>InvoiceDate</th>\n      <th>UnitPrice</th>\n      <th>CustomerID</th>\n      <th>Country</th>\n    </tr>\n  </thead>\n  <tbody>\n    <tr>\n      <th>0</th>\n      <td>536365</td>\n      <td>85123A</td>\n      <td>WHITE HANGING HEART T-LIGHT HOLDER</td>\n      <td>6</td>\n      <td>2010-12-01 08:26:00</td>\n      <td>2.55</td>\n      <td>17850.0</td>\n      <td>United Kingdom</td>\n    </tr>\n    <tr>\n      <th>1</th>\n      <td>536365</td>\n      <td>71053</td>\n      <td>WHITE METAL LANTERN</td>\n      <td>6</td>\n      <td>2010-12-01 08:26:00</td>\n      <td>3.39</td>\n      <td>17850.0</td>\n      <td>United Kingdom</td>\n    </tr>\n    <tr>\n      <th>2</th>\n      <td>536365</td>\n      <td>84406B</td>\n      <td>CREAM CUPID HEARTS COAT HANGER</td>\n      <td>8</td>\n      <td>2010-12-01 08:26:00</td>\n      <td>2.75</td>\n      <td>17850.0</td>\n      <td>United Kingdom</td>\n    </tr>\n    <tr>\n      <th>3</th>\n      <td>536365</td>\n      <td>84029G</td>\n      <td>KNITTED UNION FLAG HOT WATER BOTTLE</td>\n      <td>6</td>\n      <td>2010-12-01 08:26:00</td>\n      <td>3.39</td>\n      <td>17850.0</td>\n      <td>United Kingdom</td>\n    </tr>\n    <tr>\n      <th>4</th>\n      <td>536365</td>\n      <td>84029E</td>\n      <td>RED WOOLLY HOTTIE WHITE HEART.</td>\n      <td>6</td>\n      <td>2010-12-01 08:26:00</td>\n      <td>3.39</td>\n      <td>17850.0</td>\n      <td>United Kingdom</td>\n    </tr>\n  </tbody>\n</table>\n</div>",
      "text/plain": "  InvoiceNo StockCode                                 Name  Quantity  \\\n0    536365    85123A   WHITE HANGING HEART T-LIGHT HOLDER         6   \n1    536365     71053                  WHITE METAL LANTERN         6   \n2    536365    84406B       CREAM CUPID HEARTS COAT HANGER         8   \n3    536365    84029G  KNITTED UNION FLAG HOT WATER BOTTLE         6   \n4    536365    84029E       RED WOOLLY HOTTIE WHITE HEART.         6   \n\n          InvoiceDate  UnitPrice  CustomerID         Country  \n0 2010-12-01 08:26:00       2.55     17850.0  United Kingdom  \n1 2010-12-01 08:26:00       3.39     17850.0  United Kingdom  \n2 2010-12-01 08:26:00       2.75     17850.0  United Kingdom  \n3 2010-12-01 08:26:00       3.39     17850.0  United Kingdom  \n4 2010-12-01 08:26:00       3.39     17850.0  United Kingdom  "
     },
     "metadata": {},
     "output_type": "display_data"
    }
   ],
   "source": [
    "df = pd.read_excel('C:/Users/scmee4/OneDrive - Cardiff University/Companies/Monva/Demos/Association-Rule-Mining/online-retail.xlsx')\n",
    "\n",
    "display(df.head())"
   ]
  },
  {
   "cell_type": "markdown",
   "execution_count": null,
   "metadata": {},
   "outputs": [],
   "source": [
    "## Pre-Processing\n",
    "\n",
    "Some pre-processing has to be done:\n",
    "- remove spaces in 'Name' column\n",
    "- drop rows that don't have InvoiceNo\n",
    "- Remove any credit transactions ('C'); not wanting to assess these in this demonstration"
   ]
  },
  {
   "cell_type": "code",
   "execution_count": 7,
   "metadata": {},
   "outputs": [],
   "source": [
    "df['Name'] = df['Name'].str.strip()\n",
    "df.dropna(axis = 0, subset = ['InvoiceNo'], inplace = True)\n",
    "df['InvoiceNo'] = df['InvoiceNo'].astype('str')\n",
    "df = df[~df['InvoiceNo'].str.contains('C')]"
   ]
  },
  {
   "cell_type": "markdown",
   "execution_count": null,
   "metadata": {},
   "outputs": [],
   "source": [
    "## One Hot Encoding\n",
    "\n",
    "The dataset is transformed to have one transaction per row with each product being one-hot encoded.  \n",
    "\n",
    "One-hot encoding refers to splitting the 'Name' column, which contains categorical data, to many columns depending on the number of categories present in that column. Each column contains a \"0\" or \"1\" corresponding to which column it has been placed.  \n",
    "\n",
    "\"0\" represents the item not being present in the shopping basket and \"1\" represents the item being present."
   ]
  },
  {
   "cell_type": "code",
   "execution_count": 8,
   "metadata": {},
   "outputs": [],
   "source": [
    "basket = (df[df['Country'] == \"France\"]\n",
    "            .groupby(['InvoiceNo', 'Name'])['Quantity']\n",
    "            .sum().unstack().reset_index().fillna(0)\n",
    "            .set_index('InvoiceNo'))"
   ]
  },
  {
   "cell_type": "code",
   "execution_count": 9,
   "metadata": {},
   "outputs": [
    {
     "data": {
      "text/html": "<div>\n<style scoped>\n    .dataframe tbody tr th:only-of-type {\n        vertical-align: middle;\n    }\n\n    .dataframe tbody tr th {\n        vertical-align: top;\n    }\n\n    .dataframe thead th {\n        text-align: right;\n    }\n</style>\n<table border=\"1\" class=\"dataframe\">\n  <thead>\n    <tr style=\"text-align: right;\">\n      <th>Name</th>\n      <th>10 COLOUR SPACEBOY PEN</th>\n      <th>12 COLOURED PARTY BALLOONS</th>\n      <th>12 EGG HOUSE PAINTED WOOD</th>\n      <th>12 MESSAGE CARDS WITH ENVELOPES</th>\n      <th>12 PENCIL SMALL TUBE WOODLAND</th>\n      <th>12 PENCILS SMALL TUBE RED RETROSPOT</th>\n      <th>12 PENCILS SMALL TUBE SKULL</th>\n      <th>12 PENCILS TALL TUBE POSY</th>\n      <th>12 PENCILS TALL TUBE RED RETROSPOT</th>\n      <th>12 PENCILS TALL TUBE WOODLAND</th>\n      <th>...</th>\n      <th>WRAP VINTAGE PETALS  DESIGN</th>\n      <th>YELLOW COAT RACK PARIS FASHION</th>\n      <th>YELLOW GIANT GARDEN THERMOMETER</th>\n      <th>YELLOW SHARK HELICOPTER</th>\n      <th>ZINC  STAR T-LIGHT HOLDER</th>\n      <th>ZINC FOLKART SLEIGH BELLS</th>\n      <th>ZINC HERB GARDEN CONTAINER</th>\n      <th>ZINC METAL HEART DECORATION</th>\n      <th>ZINC T-LIGHT HOLDER STAR LARGE</th>\n      <th>ZINC T-LIGHT HOLDER STARS SMALL</th>\n    </tr>\n    <tr>\n      <th>InvoiceNo</th>\n      <th></th>\n      <th></th>\n      <th></th>\n      <th></th>\n      <th></th>\n      <th></th>\n      <th></th>\n      <th></th>\n      <th></th>\n      <th></th>\n      <th></th>\n      <th></th>\n      <th></th>\n      <th></th>\n      <th></th>\n      <th></th>\n      <th></th>\n      <th></th>\n      <th></th>\n      <th></th>\n      <th></th>\n    </tr>\n  </thead>\n  <tbody>\n    <tr>\n      <th>536370</th>\n      <td>0.0</td>\n      <td>0.0</td>\n      <td>0.0</td>\n      <td>0.0</td>\n      <td>0.0</td>\n      <td>0.0</td>\n      <td>0.0</td>\n      <td>0.0</td>\n      <td>0.0</td>\n      <td>0.0</td>\n      <td>...</td>\n      <td>0.0</td>\n      <td>0.0</td>\n      <td>0.0</td>\n      <td>0.0</td>\n      <td>0.0</td>\n      <td>0.0</td>\n      <td>0.0</td>\n      <td>0.0</td>\n      <td>0.0</td>\n      <td>0.0</td>\n    </tr>\n    <tr>\n      <th>536852</th>\n      <td>0.0</td>\n      <td>0.0</td>\n      <td>0.0</td>\n      <td>0.0</td>\n      <td>0.0</td>\n      <td>0.0</td>\n      <td>0.0</td>\n      <td>0.0</td>\n      <td>0.0</td>\n      <td>0.0</td>\n      <td>...</td>\n      <td>0.0</td>\n      <td>0.0</td>\n      <td>0.0</td>\n      <td>0.0</td>\n      <td>0.0</td>\n      <td>0.0</td>\n      <td>0.0</td>\n      <td>0.0</td>\n      <td>0.0</td>\n      <td>0.0</td>\n    </tr>\n    <tr>\n      <th>536974</th>\n      <td>0.0</td>\n      <td>0.0</td>\n      <td>0.0</td>\n      <td>0.0</td>\n      <td>0.0</td>\n      <td>0.0</td>\n      <td>0.0</td>\n      <td>0.0</td>\n      <td>0.0</td>\n      <td>0.0</td>\n      <td>...</td>\n      <td>0.0</td>\n      <td>0.0</td>\n      <td>0.0</td>\n      <td>0.0</td>\n      <td>0.0</td>\n      <td>0.0</td>\n      <td>0.0</td>\n      <td>0.0</td>\n      <td>0.0</td>\n      <td>0.0</td>\n    </tr>\n    <tr>\n      <th>537065</th>\n      <td>0.0</td>\n      <td>0.0</td>\n      <td>0.0</td>\n      <td>0.0</td>\n      <td>0.0</td>\n      <td>0.0</td>\n      <td>0.0</td>\n      <td>0.0</td>\n      <td>0.0</td>\n      <td>0.0</td>\n      <td>...</td>\n      <td>0.0</td>\n      <td>0.0</td>\n      <td>0.0</td>\n      <td>0.0</td>\n      <td>0.0</td>\n      <td>0.0</td>\n      <td>0.0</td>\n      <td>0.0</td>\n      <td>0.0</td>\n      <td>0.0</td>\n    </tr>\n    <tr>\n      <th>537463</th>\n      <td>0.0</td>\n      <td>0.0</td>\n      <td>0.0</td>\n      <td>0.0</td>\n      <td>0.0</td>\n      <td>0.0</td>\n      <td>0.0</td>\n      <td>0.0</td>\n      <td>0.0</td>\n      <td>0.0</td>\n      <td>...</td>\n      <td>0.0</td>\n      <td>0.0</td>\n      <td>0.0</td>\n      <td>0.0</td>\n      <td>0.0</td>\n      <td>0.0</td>\n      <td>0.0</td>\n      <td>0.0</td>\n      <td>0.0</td>\n      <td>0.0</td>\n    </tr>\n  </tbody>\n</table>\n<p>5 rows × 1563 columns</p>\n</div>",
      "text/plain": "Name       10 COLOUR SPACEBOY PEN  12 COLOURED PARTY BALLOONS  \\\nInvoiceNo                                                       \n536370                        0.0                         0.0   \n536852                        0.0                         0.0   \n536974                        0.0                         0.0   \n537065                        0.0                         0.0   \n537463                        0.0                         0.0   \n\nName       12 EGG HOUSE PAINTED WOOD  12 MESSAGE CARDS WITH ENVELOPES  \\\nInvoiceNo                                                               \n536370                           0.0                              0.0   \n536852                           0.0                              0.0   \n536974                           0.0                              0.0   \n537065                           0.0                              0.0   \n537463                           0.0                              0.0   \n\nName       12 PENCIL SMALL TUBE WOODLAND  12 PENCILS SMALL TUBE RED RETROSPOT  \\\nInvoiceNo                                                                       \n536370                               0.0                                  0.0   \n536852                               0.0                                  0.0   \n536974                               0.0                                  0.0   \n537065                               0.0                                  0.0   \n537463                               0.0                                  0.0   \n\nName       12 PENCILS SMALL TUBE SKULL  12 PENCILS TALL TUBE POSY  \\\nInvoiceNo                                                           \n536370                             0.0                        0.0   \n536852                             0.0                        0.0   \n536974                             0.0                        0.0   \n537065                             0.0                        0.0   \n537463                             0.0                        0.0   \n\nName       12 PENCILS TALL TUBE RED RETROSPOT  12 PENCILS TALL TUBE WOODLAND  \\\nInvoiceNo                                                                      \n536370                                    0.0                            0.0   \n536852                                    0.0                            0.0   \n536974                                    0.0                            0.0   \n537065                                    0.0                            0.0   \n537463                                    0.0                            0.0   \n\nName       ...  WRAP VINTAGE PETALS  DESIGN  YELLOW COAT RACK PARIS FASHION  \\\nInvoiceNo  ...                                                                \n536370     ...                          0.0                             0.0   \n536852     ...                          0.0                             0.0   \n536974     ...                          0.0                             0.0   \n537065     ...                          0.0                             0.0   \n537463     ...                          0.0                             0.0   \n\nName       YELLOW GIANT GARDEN THERMOMETER  YELLOW SHARK HELICOPTER  \\\nInvoiceNo                                                             \n536370                                 0.0                      0.0   \n536852                                 0.0                      0.0   \n536974                                 0.0                      0.0   \n537065                                 0.0                      0.0   \n537463                                 0.0                      0.0   \n\nName       ZINC  STAR T-LIGHT HOLDER  ZINC FOLKART SLEIGH BELLS  \\\nInvoiceNo                                                         \n536370                           0.0                        0.0   \n536852                           0.0                        0.0   \n536974                           0.0                        0.0   \n537065                           0.0                        0.0   \n537463                           0.0                        0.0   \n\nName       ZINC HERB GARDEN CONTAINER  ZINC METAL HEART DECORATION  \\\nInvoiceNo                                                            \n536370                            0.0                          0.0   \n536852                            0.0                          0.0   \n536974                            0.0                          0.0   \n537065                            0.0                          0.0   \n537463                            0.0                          0.0   \n\nName       ZINC T-LIGHT HOLDER STAR LARGE  ZINC T-LIGHT HOLDER STARS SMALL  \nInvoiceNo                                                                   \n536370                                0.0                              0.0  \n536852                                0.0                              0.0  \n536974                                0.0                              0.0  \n537065                                0.0                              0.0  \n537463                                0.0                              0.0  \n\n[5 rows x 1563 columns]"
     },
     "metadata": {},
     "output_type": "display_data"
    }
   ],
   "source": [
    "display(basket.head())"
   ]
  },
  {
   "cell_type": "markdown",
   "execution_count": null,
   "metadata": {},
   "outputs": [],
   "source": [
    "Need to ensure any positive values are converted to a 1 and anything less than 0 is set to 0.  \n",
    "\n",
    "We also remove the 'POSTAGE' column as this is not relevant."
   ]
  },
  {
   "cell_type": "code",
   "execution_count": 10,
   "metadata": {},
   "outputs": [],
   "source": [
    "def encode_units(x):\n",
    "    if x <= 0:\n",
    "        return 0\n",
    "    if x >= 1:\n",
    "        return 1\n",
    "\n",
    "basket_sets = basket.applymap(encode_units)\n",
    "basket_sets.drop('POSTAGE', inplace = True, axis = 1)"
   ]
  },
  {
   "cell_type": "markdown",
   "execution_count": null,
   "metadata": {},
   "outputs": [],
   "source": [
    "## Association Rule Mining\n",
    "\n",
    "To conduct association rule mining, the *apriori* algorithm is used. There are three main components that comprise the *apriori* algorithm:\n",
    "- *Support*: how frequently a product appears in the dataset\n",
    "- *Confidence*: the likelihood that a purchasing order contains product X and product Y together. If the confidence value is 1, then the algorithm detected that both products are purchased together all of the time\n",
    "- *Lift*: the increase in the ratio of the purchasing order of product X when product Y is also purchased. If the lift value is less than 1, it entails that the purchasing order is unlikely to contain both items together. The greater the value, the better the combination of the products. For example, a lift value of 5 infers that the likelihood of a customer purchasing both breakdown cover and GAP insurance together is five times more than that of ordering breakdown cover alone."
   ]
  },
  {
   "cell_type": "markdown",
   "execution_count": null,
   "metadata": {},
   "outputs": [],
   "source": [
    "Generate frequent item set that have a support of at least 7%:"
   ]
  },
  {
   "cell_type": "code",
   "execution_count": 11,
   "metadata": {},
   "outputs": [],
   "source": [
    "frequent_itemsets = apriori(basket_sets, min_support=0.07, use_colnames = True)"
   ]
  },
  {
   "cell_type": "markdown",
   "execution_count": null,
   "metadata": {},
   "outputs": [],
   "source": [
    "Generate association rules:"
   ]
  },
  {
   "cell_type": "code",
   "execution_count": 12,
   "metadata": {},
   "outputs": [
    {
     "data": {
      "text/html": "<div>\n<style scoped>\n    .dataframe tbody tr th:only-of-type {\n        vertical-align: middle;\n    }\n\n    .dataframe tbody tr th {\n        vertical-align: top;\n    }\n\n    .dataframe thead th {\n        text-align: right;\n    }\n</style>\n<table border=\"1\" class=\"dataframe\">\n  <thead>\n    <tr style=\"text-align: right;\">\n      <th></th>\n      <th>antecedents</th>\n      <th>consequents</th>\n      <th>antecedent support</th>\n      <th>consequent support</th>\n      <th>support</th>\n      <th>confidence</th>\n      <th>lift</th>\n      <th>leverage</th>\n      <th>conviction</th>\n    </tr>\n  </thead>\n  <tbody>\n    <tr>\n      <th>0</th>\n      <td>(ALARM CLOCK BAKELIKE PINK)</td>\n      <td>(ALARM CLOCK BAKELIKE GREEN)</td>\n      <td>0.102041</td>\n      <td>0.096939</td>\n      <td>0.073980</td>\n      <td>0.725000</td>\n      <td>7.478947</td>\n      <td>0.064088</td>\n      <td>3.283859</td>\n    </tr>\n    <tr>\n      <th>1</th>\n      <td>(ALARM CLOCK BAKELIKE GREEN)</td>\n      <td>(ALARM CLOCK BAKELIKE PINK)</td>\n      <td>0.096939</td>\n      <td>0.102041</td>\n      <td>0.073980</td>\n      <td>0.763158</td>\n      <td>7.478947</td>\n      <td>0.064088</td>\n      <td>3.791383</td>\n    </tr>\n    <tr>\n      <th>2</th>\n      <td>(ALARM CLOCK BAKELIKE RED)</td>\n      <td>(ALARM CLOCK BAKELIKE GREEN)</td>\n      <td>0.094388</td>\n      <td>0.096939</td>\n      <td>0.079082</td>\n      <td>0.837838</td>\n      <td>8.642959</td>\n      <td>0.069932</td>\n      <td>5.568878</td>\n    </tr>\n    <tr>\n      <th>3</th>\n      <td>(ALARM CLOCK BAKELIKE GREEN)</td>\n      <td>(ALARM CLOCK BAKELIKE RED)</td>\n      <td>0.096939</td>\n      <td>0.094388</td>\n      <td>0.079082</td>\n      <td>0.815789</td>\n      <td>8.642959</td>\n      <td>0.069932</td>\n      <td>4.916181</td>\n    </tr>\n    <tr>\n      <th>4</th>\n      <td>(ALARM CLOCK BAKELIKE PINK)</td>\n      <td>(ALARM CLOCK BAKELIKE RED)</td>\n      <td>0.102041</td>\n      <td>0.094388</td>\n      <td>0.073980</td>\n      <td>0.725000</td>\n      <td>7.681081</td>\n      <td>0.064348</td>\n      <td>3.293135</td>\n    </tr>\n  </tbody>\n</table>\n</div>",
      "text/plain": "                    antecedents                   consequents  \\\n0   (ALARM CLOCK BAKELIKE PINK)  (ALARM CLOCK BAKELIKE GREEN)   \n1  (ALARM CLOCK BAKELIKE GREEN)   (ALARM CLOCK BAKELIKE PINK)   \n2    (ALARM CLOCK BAKELIKE RED)  (ALARM CLOCK BAKELIKE GREEN)   \n3  (ALARM CLOCK BAKELIKE GREEN)    (ALARM CLOCK BAKELIKE RED)   \n4   (ALARM CLOCK BAKELIKE PINK)    (ALARM CLOCK BAKELIKE RED)   \n\n   antecedent support  consequent support   support  confidence      lift  \\\n0            0.102041            0.096939  0.073980    0.725000  7.478947   \n1            0.096939            0.102041  0.073980    0.763158  7.478947   \n2            0.094388            0.096939  0.079082    0.837838  8.642959   \n3            0.096939            0.094388  0.079082    0.815789  8.642959   \n4            0.102041            0.094388  0.073980    0.725000  7.681081   \n\n   leverage  conviction  \n0  0.064088    3.283859  \n1  0.064088    3.791383  \n2  0.069932    5.568878  \n3  0.069932    4.916181  \n4  0.064348    3.293135  "
     },
     "metadata": {},
     "output_type": "display_data"
    }
   ],
   "source": [
    "rules = association_rules(frequent_itemsets, metric = \"lift\", min_threshold=1)\n",
    "display(rules.head())"
   ]
  },
  {
   "cell_type": "markdown",
   "execution_count": null,
   "metadata": {},
   "outputs": [],
   "source": [
    "Display all rules with a lift higher or equal to six and a confidence higher than or equal to 0.8."
   ]
  },
  {
   "cell_type": "code",
   "execution_count": 15,
   "metadata": {},
   "outputs": [
    {
     "data": {
      "text/html": "<div>\n<style scoped>\n    .dataframe tbody tr th:only-of-type {\n        vertical-align: middle;\n    }\n\n    .dataframe tbody tr th {\n        vertical-align: top;\n    }\n\n    .dataframe thead th {\n        text-align: right;\n    }\n</style>\n<table border=\"1\" class=\"dataframe\">\n  <thead>\n    <tr style=\"text-align: right;\">\n      <th></th>\n      <th>antecedents</th>\n      <th>consequents</th>\n      <th>antecedent support</th>\n      <th>consequent support</th>\n      <th>support</th>\n      <th>confidence</th>\n      <th>lift</th>\n      <th>leverage</th>\n      <th>conviction</th>\n    </tr>\n  </thead>\n  <tbody>\n    <tr>\n      <th>2</th>\n      <td>(ALARM CLOCK BAKELIKE RED)</td>\n      <td>(ALARM CLOCK BAKELIKE GREEN)</td>\n      <td>0.094388</td>\n      <td>0.096939</td>\n      <td>0.079082</td>\n      <td>0.837838</td>\n      <td>8.642959</td>\n      <td>0.069932</td>\n      <td>5.568878</td>\n    </tr>\n    <tr>\n      <th>3</th>\n      <td>(ALARM CLOCK BAKELIKE GREEN)</td>\n      <td>(ALARM CLOCK BAKELIKE RED)</td>\n      <td>0.096939</td>\n      <td>0.094388</td>\n      <td>0.079082</td>\n      <td>0.815789</td>\n      <td>8.642959</td>\n      <td>0.069932</td>\n      <td>4.916181</td>\n    </tr>\n    <tr>\n      <th>16</th>\n      <td>(SET/6 RED SPOTTY PAPER PLATES)</td>\n      <td>(SET/20 RED RETROSPOT PAPER NAPKINS)</td>\n      <td>0.127551</td>\n      <td>0.132653</td>\n      <td>0.102041</td>\n      <td>0.800000</td>\n      <td>6.030769</td>\n      <td>0.085121</td>\n      <td>4.336735</td>\n    </tr>\n    <tr>\n      <th>18</th>\n      <td>(SET/6 RED SPOTTY PAPER CUPS)</td>\n      <td>(SET/6 RED SPOTTY PAPER PLATES)</td>\n      <td>0.137755</td>\n      <td>0.127551</td>\n      <td>0.122449</td>\n      <td>0.888889</td>\n      <td>6.968889</td>\n      <td>0.104878</td>\n      <td>7.852041</td>\n    </tr>\n    <tr>\n      <th>19</th>\n      <td>(SET/6 RED SPOTTY PAPER PLATES)</td>\n      <td>(SET/6 RED SPOTTY PAPER CUPS)</td>\n      <td>0.127551</td>\n      <td>0.137755</td>\n      <td>0.122449</td>\n      <td>0.960000</td>\n      <td>6.968889</td>\n      <td>0.104878</td>\n      <td>21.556122</td>\n    </tr>\n    <tr>\n      <th>20</th>\n      <td>(SET/6 RED SPOTTY PAPER CUPS, SET/6 RED SPOTTY...</td>\n      <td>(SET/20 RED RETROSPOT PAPER NAPKINS)</td>\n      <td>0.122449</td>\n      <td>0.132653</td>\n      <td>0.099490</td>\n      <td>0.812500</td>\n      <td>6.125000</td>\n      <td>0.083247</td>\n      <td>4.625850</td>\n    </tr>\n    <tr>\n      <th>21</th>\n      <td>(SET/6 RED SPOTTY PAPER CUPS, SET/20 RED RETRO...</td>\n      <td>(SET/6 RED SPOTTY PAPER PLATES)</td>\n      <td>0.102041</td>\n      <td>0.127551</td>\n      <td>0.099490</td>\n      <td>0.975000</td>\n      <td>7.644000</td>\n      <td>0.086474</td>\n      <td>34.897959</td>\n    </tr>\n    <tr>\n      <th>22</th>\n      <td>(SET/6 RED SPOTTY PAPER PLATES, SET/20 RED RET...</td>\n      <td>(SET/6 RED SPOTTY PAPER CUPS)</td>\n      <td>0.102041</td>\n      <td>0.137755</td>\n      <td>0.099490</td>\n      <td>0.975000</td>\n      <td>7.077778</td>\n      <td>0.085433</td>\n      <td>34.489796</td>\n    </tr>\n  </tbody>\n</table>\n</div>",
      "text/plain": "                                          antecedents  \\\n2                          (ALARM CLOCK BAKELIKE RED)   \n3                        (ALARM CLOCK BAKELIKE GREEN)   \n16                    (SET/6 RED SPOTTY PAPER PLATES)   \n18                      (SET/6 RED SPOTTY PAPER CUPS)   \n19                    (SET/6 RED SPOTTY PAPER PLATES)   \n20  (SET/6 RED SPOTTY PAPER CUPS, SET/6 RED SPOTTY...   \n21  (SET/6 RED SPOTTY PAPER CUPS, SET/20 RED RETRO...   \n22  (SET/6 RED SPOTTY PAPER PLATES, SET/20 RED RET...   \n\n                             consequents  antecedent support  \\\n2           (ALARM CLOCK BAKELIKE GREEN)            0.094388   \n3             (ALARM CLOCK BAKELIKE RED)            0.096939   \n16  (SET/20 RED RETROSPOT PAPER NAPKINS)            0.127551   \n18       (SET/6 RED SPOTTY PAPER PLATES)            0.137755   \n19         (SET/6 RED SPOTTY PAPER CUPS)            0.127551   \n20  (SET/20 RED RETROSPOT PAPER NAPKINS)            0.122449   \n21       (SET/6 RED SPOTTY PAPER PLATES)            0.102041   \n22         (SET/6 RED SPOTTY PAPER CUPS)            0.102041   \n\n    consequent support   support  confidence      lift  leverage  conviction  \n2             0.096939  0.079082    0.837838  8.642959  0.069932    5.568878  \n3             0.094388  0.079082    0.815789  8.642959  0.069932    4.916181  \n16            0.132653  0.102041    0.800000  6.030769  0.085121    4.336735  \n18            0.127551  0.122449    0.888889  6.968889  0.104878    7.852041  \n19            0.137755  0.122449    0.960000  6.968889  0.104878   21.556122  \n20            0.132653  0.099490    0.812500  6.125000  0.083247    4.625850  \n21            0.127551  0.099490    0.975000  7.644000  0.086474   34.897959  \n22            0.137755  0.099490    0.975000  7.077778  0.085433   34.489796  "
     },
     "metadata": {},
     "output_type": "display_data"
    }
   ],
   "source": [
    "display(rules[(rules['lift'] >= 6) &\n",
    "    (rules['confidence'] >= 0.8)])"
   ]
  },
  {
   "cell_type": "markdown",
   "execution_count": null,
   "metadata": {},
   "outputs": [],
   "source": [
    "### Another Example\n",
    "\n",
    "Look at all orders in the UK with a minimum support of 5%"
   ]
  },
  {
   "cell_type": "code",
   "execution_count": 18,
   "metadata": {},
   "outputs": [
    {
     "data": {
      "text/html": "<div>\n<style scoped>\n    .dataframe tbody tr th:only-of-type {\n        vertical-align: middle;\n    }\n\n    .dataframe tbody tr th {\n        vertical-align: top;\n    }\n\n    .dataframe thead th {\n        text-align: right;\n    }\n</style>\n<table border=\"1\" class=\"dataframe\">\n  <thead>\n    <tr style=\"text-align: right;\">\n      <th></th>\n      <th>antecedents</th>\n      <th>consequents</th>\n      <th>antecedent support</th>\n      <th>consequent support</th>\n      <th>support</th>\n      <th>confidence</th>\n      <th>lift</th>\n      <th>leverage</th>\n      <th>conviction</th>\n    </tr>\n  </thead>\n  <tbody>\n    <tr>\n      <th>2</th>\n      <td>(ALARM CLOCK BAKELIKE RED)</td>\n      <td>(ALARM CLOCK BAKELIKE GREEN)</td>\n      <td>0.094388</td>\n      <td>0.096939</td>\n      <td>0.079082</td>\n      <td>0.837838</td>\n      <td>8.642959</td>\n      <td>0.069932</td>\n      <td>5.568878</td>\n    </tr>\n    <tr>\n      <th>3</th>\n      <td>(ALARM CLOCK BAKELIKE GREEN)</td>\n      <td>(ALARM CLOCK BAKELIKE RED)</td>\n      <td>0.096939</td>\n      <td>0.094388</td>\n      <td>0.079082</td>\n      <td>0.815789</td>\n      <td>8.642959</td>\n      <td>0.069932</td>\n      <td>4.916181</td>\n    </tr>\n  </tbody>\n</table>\n</div>",
      "text/plain": "                    antecedents                   consequents  \\\n2    (ALARM CLOCK BAKELIKE RED)  (ALARM CLOCK BAKELIKE GREEN)   \n3  (ALARM CLOCK BAKELIKE GREEN)    (ALARM CLOCK BAKELIKE RED)   \n\n   antecedent support  consequent support   support  confidence      lift  \\\n2            0.094388            0.096939  0.079082    0.837838  8.642959   \n3            0.096939            0.094388  0.079082    0.815789  8.642959   \n\n   leverage  conviction  \n2  0.069932    5.568878  \n3  0.069932    4.916181  "
     },
     "metadata": {},
     "output_type": "display_data"
    }
   ],
   "source": [
    "basket2 = (df[df['Country'] == \"United Kingdom\"]\n",
    "            .groupby(['InvoiceNo', 'Name'])['Quantity']\n",
    "            .sum().unstack().reset_index().fillna(0)\n",
    "            .set_index('InvoiceNo'))\n",
    "\n",
    "basket_sets2 = basket2.applymap(encode_units)\n",
    "basket_sets2.drop('POSTAGE', inplace = True, axis = 1)\n",
    "frequeny_itemsets2 = apriori(basket_sets2, min_support=0.05, use_colnames = True)\n",
    "rules2 = association_rules(frequeny_itemsets2, metric = \"lift\", min_threshold=1)\n",
    "\n",
    "display(rules[(rules['lift'] >= 8) &\n",
    "    (rules['confidence'] >= 0.5)])"
   ]
  }
 ]
}